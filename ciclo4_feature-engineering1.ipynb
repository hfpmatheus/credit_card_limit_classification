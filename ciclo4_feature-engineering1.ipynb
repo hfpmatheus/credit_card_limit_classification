{
 "cells": [
  {
   "cell_type": "markdown",
   "metadata": {},
   "source": [
    "# 0.0 IMPORTS"
   ]
  },
  {
   "cell_type": "code",
   "execution_count": 1,
   "metadata": {},
   "outputs": [
    {
     "name": "stderr",
     "output_type": "stream",
     "text": [
      "C:\\Users\\mathe\\AppData\\Local\\Packages\\PythonSoftwareFoundation.Python.3.9_qbz5n2kfra8p0\\LocalCache\\local-packages\\Python39\\site-packages\\tqdm\\auto.py:22: TqdmWarning: IProgress not found. Please update jupyter and ipywidgets. See https://ipywidgets.readthedocs.io/en/stable/user_install.html\n",
      "  from .autonotebook import tqdm as notebook_tqdm\n"
     ]
    }
   ],
   "source": [
    "import re\n",
    "import warnings\n",
    "import sweetviz\n",
    "import IPython\n",
    "import pickle\n",
    "\n",
    "import pandas            as pd\n",
    "import numpy             as np\n",
    "import lightgbm          as lgb\n",
    "import xgboost           as xgb\n",
    "import seaborn           as sns\n",
    "\n",
    "from category_encoders       import TargetEncoder\n",
    "from sklearn.preprocessing   import OneHotEncoder\n",
    "from sklearn.ensemble        import ExtraTreesClassifier, RandomForestClassifier, StackingClassifier\n",
    "from sklearn.linear_model    import LogisticRegression\n",
    "from sklearn.neighbors       import KNeighborsClassifier\n",
    "from sklearn.naive_bayes     import GaussianNB\n",
    "from scipy                   import stats\n",
    "from unidecode               import unidecode\n",
    "from catboost                import CatBoostClassifier\n",
    "from skopt                   import gp_minimize\n",
    "from sklearn.model_selection import cross_val_score, KFold\n",
    "from imblearn                import over_sampling\n",
    "from sklearn                 import svm\n",
    "from sklearn.preprocessing   import RobustScaler, MinMaxScaler\n",
    "from sklearn.tree            import DecisionTreeClassifier\n",
    "\n",
    "from sklearn                 import model_selection   as ms\n",
    "from sklearn                 import metrics           as m\n",
    "from matplotlib              import pyplot            as plt\n",
    "from imblearn                import combine           as co\n",
    "from sklearn                 import manifold          as mn\n",
    "from sklearn                 import cluster           as c\n",
    "from yellowbrick.cluster     import KElbowVisualizer, SilhouetteVisualizer"
   ]
  },
  {
   "cell_type": "markdown",
   "metadata": {},
   "source": [
    "## 0.1 AUX FUNCTIONS"
   ]
  },
  {
   "cell_type": "code",
   "execution_count": 2,
   "metadata": {},
   "outputs": [],
   "source": [
    "warnings.filterwarnings('ignore')\n",
    "pd.set_option('display.max_columns', 200)\n",
    "pd.set_option('display.max_rows', 200)\n",
    "\n",
    "def ml_error( model_name, ytest, yhat ):\n",
    "    f1 = m.f1_score( ytest, yhat )\n",
    "\n",
    "    return pd.DataFrame( {'Model name': model_name,\n",
    "                          'F1': f1 }, index=[0] )"
   ]
  },
  {
   "cell_type": "markdown",
   "metadata": {},
   "source": [
    "## 0.2 READ DATASETS"
   ]
  },
  {
   "cell_type": "code",
   "execution_count": 3,
   "metadata": {},
   "outputs": [],
   "source": [
    "df = pd.read_csv('datasets/train.csv')"
   ]
  },
  {
   "cell_type": "markdown",
   "metadata": {},
   "source": [
    "# 1.0 DATA DESCRIPTION"
   ]
  },
  {
   "cell_type": "markdown",
   "metadata": {},
   "source": [
    "## 1.1 Shape"
   ]
  },
  {
   "cell_type": "code",
   "execution_count": 4,
   "metadata": {},
   "outputs": [
    {
     "name": "stdout",
     "output_type": "stream",
     "text": [
      "df users rows: 9500\n",
      "df users columns: 17\n"
     ]
    }
   ],
   "source": [
    "print( f\"df users rows: {df.shape[0]}\" )\n",
    "print( f\"df users columns: {df.shape[1]}\" )"
   ]
  },
  {
   "cell_type": "markdown",
   "metadata": {},
   "source": [
    "# 2.0 FEATURE ENGINEERING"
   ]
  },
  {
   "cell_type": "code",
   "execution_count": 5,
   "metadata": {},
   "outputs": [],
   "source": [
    "df2 = df.copy()\n",
    "\n",
    "# df2['percentual_endividamento_saldo'] = df2.apply( lambda x: x['divida_atual'] / x['saldo_atual'], axis=1 )\n",
    "# df2['percentual_endividamento_renda'] = df2.apply( lambda x: x['divida_atual'] / x['renda_anual'], axis=1 )\n",
    "df2['renda_anual'] = df2['renda_anual'].apply( lambda x: x/12 )\n",
    "df2['divida_atual'] = df2['divida_atual'].apply( lambda x: x/12)"
   ]
  },
  {
   "cell_type": "code",
   "execution_count": 6,
   "metadata": {},
   "outputs": [],
   "source": [
    "# df2['faixa_atraso_dt_venc'] = df2['dias_atraso_dt_venc'].apply( lambda x: '0' if x <= 0 else \n",
    "#                                                                           '1 - 10' if x >= 1 and x <= 10 else\n",
    "#                                                                           '11 - 20' if x >= 11 and x <= 20 else\n",
    "#                                                                           '21 - 30' if x >= 21 and x <= 30 else\n",
    "#                                                                           '31 - 40' if x >= 31 and x <= 40 else\n",
    "#                                                                           '41 - 50' if x >= 41 and x <= 50 else\n",
    "#                                                                           '51 - 60' if x >= 51 and x <= 60 else\n",
    "#                                                                           '60 +' if x > 60 else x)\n",
    "\n",
    "df2['faixa_num_emprestimos'] = df2['num_emprestimos'].apply( lambda x: '0' if x <= 0 else \n",
    "                                                                       '1 - 3' if x >= 1 and x <= 3 else\n",
    "                                                                       '4 - 6' if x >= 4 and x <= 6 else\n",
    "                                                                       '6 - 9' if x >= 6 and x <= 9 else\n",
    "                                                                       '10 +' if x > 10 else x)"
   ]
  },
  {
   "cell_type": "markdown",
   "metadata": {},
   "source": [
    "# 3.0 DATA FILTERING"
   ]
  },
  {
   "cell_type": "code",
   "execution_count": 7,
   "metadata": {},
   "outputs": [],
   "source": [
    "df3 = df2.copy()\n",
    "\n",
    "df3['idade'] = df3['idade'].apply( lambda x: int(str(x)[:2]) if x>100 else x )\n",
    "df3['taxa_juros'] = df3['taxa_juros'].apply( lambda x: int(str(x)[:2]) if x>100 else x )\n",
    "\n",
    "mediana_cartao = df3['num_cartoes_credito'].median()\n",
    "df3['num_cartoes_credito'] = df3['num_cartoes_credito'].apply( lambda x: mediana_cartao if x>100 else x )"
   ]
  },
  {
   "cell_type": "markdown",
   "metadata": {},
   "source": [
    "# 4.0 EDA"
   ]
  },
  {
   "cell_type": "code",
   "execution_count": 8,
   "metadata": {},
   "outputs": [],
   "source": [
    "df4 = df3.copy()\n",
    "\n",
    "# sweetviz report\n",
    "# report = sweetviz.analyze( df, \"limite_adicional\" )\n",
    "# report.show_html()"
   ]
  },
  {
   "cell_type": "markdown",
   "metadata": {},
   "source": [
    "# 5.0 DATA PREPARATION"
   ]
  },
  {
   "cell_type": "code",
   "execution_count": 9,
   "metadata": {},
   "outputs": [],
   "source": [
    "df5 = df3.copy()"
   ]
  },
  {
   "cell_type": "markdown",
   "metadata": {},
   "source": [
    "## 5.1 Rescaling"
   ]
  },
  {
   "cell_type": "code",
   "execution_count": 10,
   "metadata": {},
   "outputs": [],
   "source": [
    "# Min Max Scaler\n",
    "mms = MinMaxScaler()\n",
    "\n",
    "df5['idade'] = mms.fit_transform( df5[['idade']].values )\n",
    "pickle.dump( mms, open( 'encoders/idade_scaler', 'wb') )\n",
    "\n",
    "# Robust Scaler\n",
    "rs = RobustScaler()\n",
    "\n",
    "df5['saldo_atual'] = rs.fit_transform( df5[['saldo_atual']].values )\n",
    "pickle.dump( rs, open( 'encoders/saldo_atual_scaler', 'wb') )\n",
    "\n",
    "df5['divida_atual'] = rs.fit_transform( df5[['divida_atual']].values )\n",
    "pickle.dump( rs, open( 'encoders/divida_atual_scaler', 'wb') )\n",
    "\n",
    "df5['renda_anual'] = rs.fit_transform( df5[['renda_anual']].values )\n",
    "pickle.dump( rs, open( 'encoders/renda_anual_scaler', 'wb') )\n",
    "\n",
    "df5['valor_em_investimentos'] = rs.fit_transform( df5[['valor_em_investimentos']].values )\n",
    "pickle.dump( rs, open( 'encoders/valor_em_investimentos_scaler', 'wb') )\n",
    "\n",
    "df5['taxa_utilizacao_credito'] = rs.fit_transform( df5[['taxa_utilizacao_credito']].values )\n",
    "pickle.dump( rs, open( 'encoders/taxa_utilizacao_credito_scaler', 'wb') )\n",
    "\n",
    "df5['num_emprestimos'] = rs.fit_transform( df5[['num_emprestimos']].values )\n",
    "pickle.dump( rs, open( 'encoders/num_emprestimos_scaler', 'wb') )\n",
    "\n",
    "df5['num_contas_bancarias'] = rs.fit_transform( df5[['num_contas_bancarias']].values )\n",
    "pickle.dump( rs, open( 'encoders/num_contas_bancarias_scaler', 'wb') )\n",
    "\n",
    "df5['num_cartoes_credito'] = rs.fit_transform( df5[['num_cartoes_credito']].values )\n",
    "pickle.dump( rs, open( 'encoders/num_cartoes_credito_scaler', 'wb') )\n",
    "\n",
    "df5['dias_atraso_dt_venc'] = rs.fit_transform( df5[['dias_atraso_dt_venc']].values )\n",
    "pickle.dump( rs, open( 'encoders/dias_atraso_dt_venc_scaler', 'wb') )\n",
    "\n",
    "df5['num_pgtos_atrasados'] = rs.fit_transform( df5[['num_pgtos_atrasados']].values )\n",
    "pickle.dump( rs, open( 'encoders/num_pgtos_atrasados_scaler', 'wb') )\n",
    "\n",
    "df5['num_consultas_credito'] = rs.fit_transform( df5[['num_consultas_credito']].values )\n",
    "pickle.dump( rs, open( 'encoders/num_consultas_credito_scaler', 'wb') )\n",
    "\n",
    "df5['taxa_juros'] = rs.fit_transform( df5[['taxa_juros']].values )\n",
    "pickle.dump( rs, open( 'encoders/taxa_juros_scaler', 'wb') )"
   ]
  },
  {
   "cell_type": "markdown",
   "metadata": {},
   "source": [
    "## 5.2 Encoding"
   ]
  },
  {
   "cell_type": "code",
   "execution_count": 11,
   "metadata": {},
   "outputs": [],
   "source": [
    "# limite adicional\n",
    "df5['limite_adicional'] = df5['limite_adicional'].apply( lambda x: 0 if x == 'Negar' else 1 )\n",
    "\n",
    "# target encoder\n",
    "te = TargetEncoder()\n",
    "\n",
    "df5['investe_exterior'] = te.fit_transform( df5['investe_exterior'], df5['limite_adicional'] )\n",
    "pickle.dump( te, open( 'encoders/investe_exterior_encoding', 'wb' ) )\n",
    "\n",
    "df5['pessoa_polit_exp'] = te.fit_transform( df5['pessoa_polit_exp'], df5['limite_adicional'] )\n",
    "pickle.dump( te, open( 'encoders/pessoa_polit_exp_encoding', 'wb' ) )\n",
    "\n",
    "df5['faixa_num_emprestimos'] = te.fit_transform( df5['faixa_num_emprestimos'], df5['limite_adicional'] )\n",
    "pickle.dump( te, open( 'encoders/faixa_num_emprestimos_encoding', 'wb' ) )"
   ]
  },
  {
   "cell_type": "markdown",
   "metadata": {},
   "source": [
    "# Resampling Data"
   ]
  },
  {
   "cell_type": "code",
   "execution_count": 12,
   "metadata": {},
   "outputs": [],
   "source": [
    "df_features = df5.drop( columns='limite_adicional')\n",
    "df_target = df5['limite_adicional'].copy()\n",
    "\n",
    "# # define\n",
    "# os = over_sampling.SMOTE( random_state=32, n_jobs=-1 )\n",
    "\n",
    "# # apply\n",
    "# features_smt, target_smt = os.fit_resample( df_features, df_target )"
   ]
  },
  {
   "cell_type": "code",
   "execution_count": 13,
   "metadata": {},
   "outputs": [],
   "source": [
    "# define\n",
    "smt = co.SMOTETomek( random_state=32, n_jobs=-1 )\n",
    "\n",
    "# apply\n",
    "features_smt, target_smt = smt.fit_resample( df_features, df_target )"
   ]
  },
  {
   "cell_type": "markdown",
   "metadata": {},
   "source": [
    "# K Means"
   ]
  },
  {
   "cell_type": "code",
   "execution_count": 25,
   "metadata": {},
   "outputs": [
    {
     "ename": "ValueError",
     "evalue": "Expected 2D array, got scalar array instead:\narray=nan.\nReshape your data either using array.reshape(-1, 1) if your data has a single feature or array.reshape(1, -1) if it contains a single sample.",
     "output_type": "error",
     "traceback": [
      "\u001b[1;31m---------------------------------------------------------------------------\u001b[0m",
      "\u001b[1;31mValueError\u001b[0m                                Traceback (most recent call last)",
      "\u001b[1;32mc:\\Users\\mathe\\Repos_ComunidadeDS\\hackdays_3\\ciclo4_feature-engineering1.ipynb Célula: 27\u001b[0m in \u001b[0;36m<cell line: 4>\u001b[1;34m()\u001b[0m\n\u001b[0;32m      <a href='vscode-notebook-cell:/c%3A/Users/mathe/Repos_ComunidadeDS/hackdays_3/ciclo4_feature-engineering1.ipynb#Y145sZmlsZQ%3D%3D?line=5'>6</a>\u001b[0m kmeans \u001b[39m=\u001b[39m c\u001b[39m.\u001b[39mKMeans( n_clusters\u001b[39m=\u001b[39mk )\n\u001b[0;32m      <a href='vscode-notebook-cell:/c%3A/Users/mathe/Repos_ComunidadeDS/hackdays_3/ciclo4_feature-engineering1.ipynb#Y145sZmlsZQ%3D%3D?line=7'>8</a>\u001b[0m \u001b[39m# model training\u001b[39;00m\n\u001b[1;32m----> <a href='vscode-notebook-cell:/c%3A/Users/mathe/Repos_ComunidadeDS/hackdays_3/ciclo4_feature-engineering1.ipynb#Y145sZmlsZQ%3D%3D?line=8'>9</a>\u001b[0m kmeans\u001b[39m.\u001b[39;49mfit( df3 )\n\u001b[0;32m     <a href='vscode-notebook-cell:/c%3A/Users/mathe/Repos_ComunidadeDS/hackdays_3/ciclo4_feature-engineering1.ipynb#Y145sZmlsZQ%3D%3D?line=10'>11</a>\u001b[0m \u001b[39m# model predict\u001b[39;00m\n\u001b[0;32m     <a href='vscode-notebook-cell:/c%3A/Users/mathe/Repos_ComunidadeDS/hackdays_3/ciclo4_feature-engineering1.ipynb#Y145sZmlsZQ%3D%3D?line=11'>12</a>\u001b[0m labels \u001b[39m=\u001b[39m kmeans\u001b[39m.\u001b[39mpredict( df3 )\n",
      "File \u001b[1;32m~\\AppData\\Local\\Packages\\PythonSoftwareFoundation.Python.3.9_qbz5n2kfra8p0\\LocalCache\\local-packages\\Python39\\site-packages\\sklearn\\cluster\\_kmeans.py:1367\u001b[0m, in \u001b[0;36mKMeans.fit\u001b[1;34m(self, X, y, sample_weight)\u001b[0m\n\u001b[0;32m   1341\u001b[0m \u001b[39mdef\u001b[39;00m \u001b[39mfit\u001b[39m(\u001b[39mself\u001b[39m, X, y\u001b[39m=\u001b[39m\u001b[39mNone\u001b[39;00m, sample_weight\u001b[39m=\u001b[39m\u001b[39mNone\u001b[39;00m):\n\u001b[0;32m   1342\u001b[0m     \u001b[39m\"\"\"Compute k-means clustering.\u001b[39;00m\n\u001b[0;32m   1343\u001b[0m \n\u001b[0;32m   1344\u001b[0m \u001b[39m    Parameters\u001b[39;00m\n\u001b[1;32m   (...)\u001b[0m\n\u001b[0;32m   1365\u001b[0m \u001b[39m        Fitted estimator.\u001b[39;00m\n\u001b[0;32m   1366\u001b[0m \u001b[39m    \"\"\"\u001b[39;00m\n\u001b[1;32m-> 1367\u001b[0m     X \u001b[39m=\u001b[39m \u001b[39mself\u001b[39;49m\u001b[39m.\u001b[39;49m_validate_data(\n\u001b[0;32m   1368\u001b[0m         X,\n\u001b[0;32m   1369\u001b[0m         accept_sparse\u001b[39m=\u001b[39;49m\u001b[39m\"\u001b[39;49m\u001b[39mcsr\u001b[39;49m\u001b[39m\"\u001b[39;49m,\n\u001b[0;32m   1370\u001b[0m         dtype\u001b[39m=\u001b[39;49m[np\u001b[39m.\u001b[39;49mfloat64, np\u001b[39m.\u001b[39;49mfloat32],\n\u001b[0;32m   1371\u001b[0m         order\u001b[39m=\u001b[39;49m\u001b[39m\"\u001b[39;49m\u001b[39mC\u001b[39;49m\u001b[39m\"\u001b[39;49m,\n\u001b[0;32m   1372\u001b[0m         copy\u001b[39m=\u001b[39;49m\u001b[39mself\u001b[39;49m\u001b[39m.\u001b[39;49mcopy_x,\n\u001b[0;32m   1373\u001b[0m         accept_large_sparse\u001b[39m=\u001b[39;49m\u001b[39mFalse\u001b[39;49;00m,\n\u001b[0;32m   1374\u001b[0m     )\n\u001b[0;32m   1376\u001b[0m     \u001b[39mself\u001b[39m\u001b[39m.\u001b[39m_check_params(X)\n\u001b[0;32m   1377\u001b[0m     random_state \u001b[39m=\u001b[39m check_random_state(\u001b[39mself\u001b[39m\u001b[39m.\u001b[39mrandom_state)\n",
      "File \u001b[1;32m~\\AppData\\Local\\Packages\\PythonSoftwareFoundation.Python.3.9_qbz5n2kfra8p0\\LocalCache\\local-packages\\Python39\\site-packages\\sklearn\\base.py:577\u001b[0m, in \u001b[0;36mBaseEstimator._validate_data\u001b[1;34m(self, X, y, reset, validate_separately, **check_params)\u001b[0m\n\u001b[0;32m    575\u001b[0m     \u001b[39mraise\u001b[39;00m \u001b[39mValueError\u001b[39;00m(\u001b[39m\"\u001b[39m\u001b[39mValidation should be done on X, y or both.\u001b[39m\u001b[39m\"\u001b[39m)\n\u001b[0;32m    576\u001b[0m \u001b[39melif\u001b[39;00m \u001b[39mnot\u001b[39;00m no_val_X \u001b[39mand\u001b[39;00m no_val_y:\n\u001b[1;32m--> 577\u001b[0m     X \u001b[39m=\u001b[39m check_array(X, input_name\u001b[39m=\u001b[39m\u001b[39m\"\u001b[39m\u001b[39mX\u001b[39m\u001b[39m\"\u001b[39m, \u001b[39m*\u001b[39m\u001b[39m*\u001b[39mcheck_params)\n\u001b[0;32m    578\u001b[0m     out \u001b[39m=\u001b[39m X\n\u001b[0;32m    579\u001b[0m \u001b[39melif\u001b[39;00m no_val_X \u001b[39mand\u001b[39;00m \u001b[39mnot\u001b[39;00m no_val_y:\n",
      "File \u001b[1;32m~\\AppData\\Local\\Packages\\PythonSoftwareFoundation.Python.3.9_qbz5n2kfra8p0\\LocalCache\\local-packages\\Python39\\site-packages\\sklearn\\utils\\validation.py:871\u001b[0m, in \u001b[0;36mcheck_array\u001b[1;34m(array, accept_sparse, accept_large_sparse, dtype, order, copy, force_all_finite, ensure_2d, allow_nd, ensure_min_samples, ensure_min_features, estimator, input_name)\u001b[0m\n\u001b[0;32m    868\u001b[0m \u001b[39mif\u001b[39;00m ensure_2d:\n\u001b[0;32m    869\u001b[0m     \u001b[39m# If input is scalar raise error\u001b[39;00m\n\u001b[0;32m    870\u001b[0m     \u001b[39mif\u001b[39;00m array\u001b[39m.\u001b[39mndim \u001b[39m==\u001b[39m \u001b[39m0\u001b[39m:\n\u001b[1;32m--> 871\u001b[0m         \u001b[39mraise\u001b[39;00m \u001b[39mValueError\u001b[39;00m(\n\u001b[0;32m    872\u001b[0m             \u001b[39m\"\u001b[39m\u001b[39mExpected 2D array, got scalar array instead:\u001b[39m\u001b[39m\\n\u001b[39;00m\u001b[39marray=\u001b[39m\u001b[39m{}\u001b[39;00m\u001b[39m.\u001b[39m\u001b[39m\\n\u001b[39;00m\u001b[39m\"\u001b[39m\n\u001b[0;32m    873\u001b[0m             \u001b[39m\"\u001b[39m\u001b[39mReshape your data either using array.reshape(-1, 1) if \u001b[39m\u001b[39m\"\u001b[39m\n\u001b[0;32m    874\u001b[0m             \u001b[39m\"\u001b[39m\u001b[39myour data has a single feature or array.reshape(1, -1) \u001b[39m\u001b[39m\"\u001b[39m\n\u001b[0;32m    875\u001b[0m             \u001b[39m\"\u001b[39m\u001b[39mif it contains a single sample.\u001b[39m\u001b[39m\"\u001b[39m\u001b[39m.\u001b[39mformat(array)\n\u001b[0;32m    876\u001b[0m         )\n\u001b[0;32m    877\u001b[0m     \u001b[39m# If input is 1D raise error\u001b[39;00m\n\u001b[0;32m    878\u001b[0m     \u001b[39mif\u001b[39;00m array\u001b[39m.\u001b[39mndim \u001b[39m==\u001b[39m \u001b[39m1\u001b[39m:\n",
      "\u001b[1;31mValueError\u001b[0m: Expected 2D array, got scalar array instead:\narray=nan.\nReshape your data either using array.reshape(-1, 1) if your data has a single feature or array.reshape(1, -1) if it contains a single sample."
     ]
    }
   ],
   "source": [
    "clusters = [ 2, 3 , 4, 5, 10, 15, 20 ]\n",
    "kmeans_list = []\n",
    "\n",
    "for k in clusters:\n",
    "    # model definition\n",
    "    kmeans = c.KMeans( n_clusters=k )\n",
    "\n",
    "    # model training\n",
    "    kmeans.fit( df3 )\n",
    "\n",
    "    # model predict\n",
    "    labels = kmeans.predict( df3 )\n",
    "\n",
    "    # model performance\n",
    "    silhouette = m.silhouette_score( df3, labels, metric='euclidean' )\n",
    "    kmeans_list.append( silhouette )\n",
    "\n",
    "# model definition\n",
    "k = 15\n",
    "kmeans = c.KMeans( init='random', n_clusters=k, n_init=10, max_iter=300, random_state=42 )\n",
    "\n",
    "# model training\n",
    "kmeans.fit( df3 )\n",
    "\n",
    "# clustering\n",
    "labels = kmeans.labels_\n",
    "\n",
    "df3['cluster'] = labels"
   ]
  },
  {
   "cell_type": "markdown",
   "metadata": {},
   "source": [
    "# 6.0 FEATURE SELECTION"
   ]
  },
  {
   "cell_type": "code",
   "execution_count": 16,
   "metadata": {},
   "outputs": [
    {
     "data": {
      "text/html": [
       "<style>#sk-container-id-1 {color: black;background-color: white;}#sk-container-id-1 pre{padding: 0;}#sk-container-id-1 div.sk-toggleable {background-color: white;}#sk-container-id-1 label.sk-toggleable__label {cursor: pointer;display: block;width: 100%;margin-bottom: 0;padding: 0.3em;box-sizing: border-box;text-align: center;}#sk-container-id-1 label.sk-toggleable__label-arrow:before {content: \"▸\";float: left;margin-right: 0.25em;color: #696969;}#sk-container-id-1 label.sk-toggleable__label-arrow:hover:before {color: black;}#sk-container-id-1 div.sk-estimator:hover label.sk-toggleable__label-arrow:before {color: black;}#sk-container-id-1 div.sk-toggleable__content {max-height: 0;max-width: 0;overflow: hidden;text-align: left;background-color: #f0f8ff;}#sk-container-id-1 div.sk-toggleable__content pre {margin: 0.2em;color: black;border-radius: 0.25em;background-color: #f0f8ff;}#sk-container-id-1 input.sk-toggleable__control:checked~div.sk-toggleable__content {max-height: 200px;max-width: 100%;overflow: auto;}#sk-container-id-1 input.sk-toggleable__control:checked~label.sk-toggleable__label-arrow:before {content: \"▾\";}#sk-container-id-1 div.sk-estimator input.sk-toggleable__control:checked~label.sk-toggleable__label {background-color: #d4ebff;}#sk-container-id-1 div.sk-label input.sk-toggleable__control:checked~label.sk-toggleable__label {background-color: #d4ebff;}#sk-container-id-1 input.sk-hidden--visually {border: 0;clip: rect(1px 1px 1px 1px);clip: rect(1px, 1px, 1px, 1px);height: 1px;margin: -1px;overflow: hidden;padding: 0;position: absolute;width: 1px;}#sk-container-id-1 div.sk-estimator {font-family: monospace;background-color: #f0f8ff;border: 1px dotted black;border-radius: 0.25em;box-sizing: border-box;margin-bottom: 0.5em;}#sk-container-id-1 div.sk-estimator:hover {background-color: #d4ebff;}#sk-container-id-1 div.sk-parallel-item::after {content: \"\";width: 100%;border-bottom: 1px solid gray;flex-grow: 1;}#sk-container-id-1 div.sk-label:hover label.sk-toggleable__label {background-color: #d4ebff;}#sk-container-id-1 div.sk-serial::before {content: \"\";position: absolute;border-left: 1px solid gray;box-sizing: border-box;top: 0;bottom: 0;left: 50%;z-index: 0;}#sk-container-id-1 div.sk-serial {display: flex;flex-direction: column;align-items: center;background-color: white;padding-right: 0.2em;padding-left: 0.2em;position: relative;}#sk-container-id-1 div.sk-item {position: relative;z-index: 1;}#sk-container-id-1 div.sk-parallel {display: flex;align-items: stretch;justify-content: center;background-color: white;position: relative;}#sk-container-id-1 div.sk-item::before, #sk-container-id-1 div.sk-parallel-item::before {content: \"\";position: absolute;border-left: 1px solid gray;box-sizing: border-box;top: 0;bottom: 0;left: 50%;z-index: -1;}#sk-container-id-1 div.sk-parallel-item {display: flex;flex-direction: column;z-index: 1;position: relative;background-color: white;}#sk-container-id-1 div.sk-parallel-item:first-child::after {align-self: flex-end;width: 50%;}#sk-container-id-1 div.sk-parallel-item:last-child::after {align-self: flex-start;width: 50%;}#sk-container-id-1 div.sk-parallel-item:only-child::after {width: 0;}#sk-container-id-1 div.sk-dashed-wrapped {border: 1px dashed gray;margin: 0 0.4em 0.5em 0.4em;box-sizing: border-box;padding-bottom: 0.4em;background-color: white;}#sk-container-id-1 div.sk-label label {font-family: monospace;font-weight: bold;display: inline-block;line-height: 1.2em;}#sk-container-id-1 div.sk-label-container {text-align: center;}#sk-container-id-1 div.sk-container {/* jupyter's `normalize.less` sets `[hidden] { display: none; }` but bootstrap.min.css set `[hidden] { display: none !important; }` so we also need the `!important` here to be able to override the default hidden behavior on the sphinx rendered scikit-learn.org. See: https://github.com/scikit-learn/scikit-learn/issues/21755 */display: inline-block !important;position: relative;}#sk-container-id-1 div.sk-text-repr-fallback {display: none;}</style><div id=\"sk-container-id-1\" class=\"sk-top-container\"><div class=\"sk-text-repr-fallback\"><pre>ExtraTreesClassifier(n_jobs=-1)</pre><b>In a Jupyter environment, please rerun this cell to show the HTML representation or trust the notebook. <br />On GitHub, the HTML representation is unable to render, please try loading this page with nbviewer.org.</b></div><div class=\"sk-container\" hidden><div class=\"sk-item\"><div class=\"sk-estimator sk-toggleable\"><input class=\"sk-toggleable__control sk-hidden--visually\" id=\"sk-estimator-id-1\" type=\"checkbox\" checked><label for=\"sk-estimator-id-1\" class=\"sk-toggleable__label sk-toggleable__label-arrow\">ExtraTreesClassifier</label><div class=\"sk-toggleable__content\"><pre>ExtraTreesClassifier(n_jobs=-1)</pre></div></div></div></div></div>"
      ],
      "text/plain": [
       "ExtraTreesClassifier(n_jobs=-1)"
      ]
     },
     "execution_count": 16,
     "metadata": {},
     "output_type": "execute_result"
    }
   ],
   "source": [
    "# model\n",
    "forest = ExtraTreesClassifier( n_jobs=-1 )\n",
    "\n",
    "# training\n",
    "X = df5.drop( columns=['limite_adicional'])\n",
    "Y = df5['limite_adicional'].values\n",
    "\n",
    "x_train_fselection, x_val, y_train_fselection, y_val = ms.train_test_split( X, Y, test_size=0.5, random_state=42 )\n",
    "\n",
    "forest.fit( x_train_fselection, y_train_fselection )"
   ]
  },
  {
   "cell_type": "code",
   "execution_count": 17,
   "metadata": {},
   "outputs": [
    {
     "name": "stdout",
     "output_type": "stream",
     "text": [
      "Feature Ranking:\n",
      "\n",
      "                   feature  importance\n",
      "0      dias_atraso_dt_venc    0.128406\n",
      "0               taxa_juros    0.105413\n",
      "0      num_cartoes_credito    0.102709\n",
      "0      num_pgtos_atrasados    0.067895\n",
      "0             divida_atual    0.066930\n",
      "0     num_contas_bancarias    0.060667\n",
      "0              saldo_atual    0.059139\n",
      "0    num_consultas_credito    0.053871\n",
      "0                    idade    0.052453\n",
      "0  taxa_utilizacao_credito    0.050806\n",
      "0              renda_anual    0.050502\n",
      "0   valor_em_investimentos    0.050304\n",
      "0               id_cliente    0.050183\n",
      "0    faixa_num_emprestimos    0.044710\n",
      "0          num_emprestimos    0.033093\n",
      "0         investe_exterior    0.014357\n",
      "0         pessoa_polit_exp    0.008563\n"
     ]
    },
    {
     "data": {
      "image/png": "[encoded data removed]",
      "text/plain": [
       "<Figure size 720x360 with 1 Axes>"
      ]
     },
     "metadata": {
      "needs_background": "light"
     },
     "output_type": "display_data"
    }
   ],
   "source": [
    "importances = forest.feature_importances_\n",
    "std = np.std( [tree.feature_importances_ for tree in forest.estimators_], axis=0 )\n",
    "indices = np.argsort( importances )[::-1]\n",
    "\n",
    "# print the feature ranking\n",
    "df = pd.DataFrame()\n",
    "\n",
    "print( 'Feature Ranking:\\n' )\n",
    "for i, j in zip( x_train_fselection,forest.feature_importances_ ):\n",
    "    aux = pd.DataFrame( {'feature': i, 'importance': j}, index=[0] )\n",
    "    df = pd.concat( [df, aux], axis=0 )\n",
    "    \n",
    "print( df.sort_values( 'importance', ascending=False ) ) \n",
    "\n",
    "# plot the impurity-based feature importances of the forest\n",
    "plt.figure(figsize=(10,5))\n",
    "plt.title( 'Feature importances' )\n",
    "plt.bar( range( x_train_fselection.shape[1] ), importances[indices], color='r', yerr=std[indices], align='center' )\n",
    "plt.xticks( range(x_train_fselection.shape[1]), indices )\n",
    "plt.xlim( [-1, x_train_fselection.shape[1]] )\n",
    "plt.show()"
   ]
  },
  {
   "cell_type": "markdown",
   "metadata": {},
   "source": [
    "# 7.0 MACHINE LEARNING"
   ]
  },
  {
   "cell_type": "code",
   "execution_count": 18,
   "metadata": {},
   "outputs": [],
   "source": [
    "X = features_smt.drop( columns = ['id_cliente'] )\n",
    "Y = target_smt.copy()\n",
    "\n",
    "X_train, X_val, y_train, y_val = ms.train_test_split( X, Y, test_size=0.2, random_state=42 )"
   ]
  },
  {
   "cell_type": "markdown",
   "metadata": {},
   "source": [
    "## 7.1 LightGBM"
   ]
  },
  {
   "cell_type": "code",
   "execution_count": 19,
   "metadata": {},
   "outputs": [
    {
     "data": {
      "text/html": [
       "<div>\n",
       "<style scoped>\n",
       "    .dataframe tbody tr th:only-of-type {\n",
       "        vertical-align: middle;\n",
       "    }\n",
       "\n",
       "    .dataframe tbody tr th {\n",
       "        vertical-align: top;\n",
       "    }\n",
       "\n",
       "    .dataframe thead th {\n",
       "        text-align: right;\n",
       "    }\n",
       "</style>\n",
       "<table border=\"1\" class=\"dataframe\">\n",
       "  <thead>\n",
       "    <tr style=\"text-align: right;\">\n",
       "      <th></th>\n",
       "      <th>Model name</th>\n",
       "      <th>F1</th>\n",
       "    </tr>\n",
       "  </thead>\n",
       "  <tbody>\n",
       "    <tr>\n",
       "      <th>0</th>\n",
       "      <td>LightGBM</td>\n",
       "      <td>0.935343</td>\n",
       "    </tr>\n",
       "  </tbody>\n",
       "</table>\n",
       "</div>"
      ],
      "text/plain": [
       "  Model name        F1\n",
       "0   LightGBM  0.935343"
      ]
     },
     "execution_count": 19,
     "metadata": {},
     "output_type": "execute_result"
    }
   ],
   "source": [
    "# model\n",
    "model_lgb = lgb.LGBMClassifier( n_estimators=1428, max_depth=20, learning_rate=0.03159717592160721, num_leaves=128, \n",
    "min_child_samples=1, subsample=1.0, colsample_bytree=1.0, n_jobs=-1, random_state=42, subsample_freq=1 ).fit( X_train, y_train )\n",
    "# model_lgb = lgb.LGBMClassifier( n_jobs=-1 ).fit( X_train, y_train )\n",
    "pickle.dump( model_lgb, open( 'model/model_lgb.pkl', 'wb' ) )\n",
    "\n",
    "# prediction\n",
    "yhat_lgb = model_lgb.predict( X_val )\n",
    "\n",
    "# performance\n",
    "model_lgb_results = ml_error( 'LightGBM',  y_val, yhat_lgb )\n",
    "model_lgb_results"
   ]
  },
  {
   "cell_type": "markdown",
   "metadata": {},
   "source": [
    "### 7.1.1 Cross Validation"
   ]
  },
  {
   "cell_type": "code",
   "execution_count": 20,
   "metadata": {},
   "outputs": [],
   "source": [
    "# # cross validation\n",
    "# kfold = KFold(n_splits=5, random_state=1, shuffle=True)\n",
    "# cv = cross_val_score(model_lgb, X, Y, scoring='f1', cv=kfold, n_jobs=-1, error_score='raise' )\n",
    "# print( \"{} +/- {}\".format( np.mean(cv), np.std(cv)) )"
   ]
  },
  {
   "cell_type": "markdown",
   "metadata": {},
   "source": [
    "## 7.2 XGBoost"
   ]
  },
  {
   "cell_type": "code",
   "execution_count": 21,
   "metadata": {},
   "outputs": [
    {
     "data": {
      "text/html": [
       "<div>\n",
       "<style scoped>\n",
       "    .dataframe tbody tr th:only-of-type {\n",
       "        vertical-align: middle;\n",
       "    }\n",
       "\n",
       "    .dataframe tbody tr th {\n",
       "        vertical-align: top;\n",
       "    }\n",
       "\n",
       "    .dataframe thead th {\n",
       "        text-align: right;\n",
       "    }\n",
       "</style>\n",
       "<table border=\"1\" class=\"dataframe\">\n",
       "  <thead>\n",
       "    <tr style=\"text-align: right;\">\n",
       "      <th></th>\n",
       "      <th>Model name</th>\n",
       "      <th>F1</th>\n",
       "    </tr>\n",
       "  </thead>\n",
       "  <tbody>\n",
       "    <tr>\n",
       "      <th>0</th>\n",
       "      <td>XGBoost</td>\n",
       "      <td>0.930839</td>\n",
       "    </tr>\n",
       "  </tbody>\n",
       "</table>\n",
       "</div>"
      ],
      "text/plain": [
       "  Model name        F1\n",
       "0    XGBoost  0.930839"
      ]
     },
     "execution_count": 21,
     "metadata": {},
     "output_type": "execute_result"
    }
   ],
   "source": [
    "# model\n",
    "model_xgb = xgb.XGBClassifier( n_jobs=-1 ).fit( X_train, y_train )\n",
    "\n",
    "# prediction\n",
    "yhat_xgb = model_xgb.predict( X_val )\n",
    "\n",
    "# performance\n",
    "model_xgb_results = ml_error( 'XGBoost',  y_val, yhat_xgb )\n",
    "model_xgb_results"
   ]
  },
  {
   "cell_type": "markdown",
   "metadata": {},
   "source": [
    "### 7.2.1 Cross Validation"
   ]
  },
  {
   "cell_type": "code",
   "execution_count": 22,
   "metadata": {},
   "outputs": [],
   "source": [
    "# # cross validation\n",
    "# kfold = KFold(n_splits=5, random_state=1, shuffle=True)\n",
    "# cv = cross_val_score(model_xgb, X, Y, scoring='f1', cv=kfold, n_jobs=-1, error_score='raise' )\n",
    "# print( \"{} +/- {}\".format( np.mean(cv), np.std(cv)) )"
   ]
  },
  {
   "cell_type": "markdown",
   "metadata": {},
   "source": [
    "## 7.3 CatBoost"
   ]
  },
  {
   "cell_type": "code",
   "execution_count": 23,
   "metadata": {},
   "outputs": [
    {
     "ename": "KeyboardInterrupt",
     "evalue": "",
     "output_type": "error",
     "traceback": [
      "\u001b[1;31m---------------------------------------------------------------------------\u001b[0m",
      "\u001b[1;31mKeyboardInterrupt\u001b[0m                         Traceback (most recent call last)",
      "\u001b[1;32mc:\\Users\\mathe\\Repos_ComunidadeDS\\hackdays_3\\ciclo4_feature-engineering1.ipynb Célula: 43\u001b[0m in \u001b[0;36m<cell line: 2>\u001b[1;34m()\u001b[0m\n\u001b[0;32m      <a href='vscode-notebook-cell:/c%3A/Users/mathe/Repos_ComunidadeDS/hackdays_3/ciclo4_feature-engineering1.ipynb#X54sZmlsZQ%3D%3D?line=0'>1</a>\u001b[0m \u001b[39m# model\u001b[39;00m\n\u001b[1;32m----> <a href='vscode-notebook-cell:/c%3A/Users/mathe/Repos_ComunidadeDS/hackdays_3/ciclo4_feature-engineering1.ipynb#X54sZmlsZQ%3D%3D?line=1'>2</a>\u001b[0m model_cb \u001b[39m=\u001b[39m CatBoostClassifier( verbose\u001b[39m=\u001b[39;49m\u001b[39mFalse\u001b[39;49;00m )\u001b[39m.\u001b[39;49mfit( X_train, y_train )\n\u001b[0;32m      <a href='vscode-notebook-cell:/c%3A/Users/mathe/Repos_ComunidadeDS/hackdays_3/ciclo4_feature-engineering1.ipynb#X54sZmlsZQ%3D%3D?line=3'>4</a>\u001b[0m \u001b[39m# prediction\u001b[39;00m\n\u001b[0;32m      <a href='vscode-notebook-cell:/c%3A/Users/mathe/Repos_ComunidadeDS/hackdays_3/ciclo4_feature-engineering1.ipynb#X54sZmlsZQ%3D%3D?line=4'>5</a>\u001b[0m yhat_cb \u001b[39m=\u001b[39m model_cb\u001b[39m.\u001b[39mpredict( X_val )\n",
      "File \u001b[1;32m~\\AppData\\Local\\Packages\\PythonSoftwareFoundation.Python.3.9_qbz5n2kfra8p0\\LocalCache\\local-packages\\Python39\\site-packages\\catboost\\core.py:5128\u001b[0m, in \u001b[0;36mCatBoostClassifier.fit\u001b[1;34m(self, X, y, cat_features, text_features, embedding_features, sample_weight, baseline, use_best_model, eval_set, verbose, logging_level, plot, plot_file, column_description, verbose_eval, metric_period, silent, early_stopping_rounds, save_snapshot, snapshot_file, snapshot_interval, init_model, callbacks, log_cout, log_cerr)\u001b[0m\n\u001b[0;32m   5125\u001b[0m \u001b[39mif\u001b[39;00m \u001b[39m'\u001b[39m\u001b[39mloss_function\u001b[39m\u001b[39m'\u001b[39m \u001b[39min\u001b[39;00m params:\n\u001b[0;32m   5126\u001b[0m     CatBoostClassifier\u001b[39m.\u001b[39m_check_is_compatible_loss(params[\u001b[39m'\u001b[39m\u001b[39mloss_function\u001b[39m\u001b[39m'\u001b[39m])\n\u001b[1;32m-> 5128\u001b[0m \u001b[39mself\u001b[39;49m\u001b[39m.\u001b[39;49m_fit(X, y, cat_features, text_features, embedding_features, \u001b[39mNone\u001b[39;49;00m, sample_weight, \u001b[39mNone\u001b[39;49;00m, \u001b[39mNone\u001b[39;49;00m, \u001b[39mNone\u001b[39;49;00m, \u001b[39mNone\u001b[39;49;00m, baseline, use_best_model,\n\u001b[0;32m   5129\u001b[0m           eval_set, verbose, logging_level, plot, plot_file, column_description, verbose_eval, metric_period,\n\u001b[0;32m   5130\u001b[0m           silent, early_stopping_rounds, save_snapshot, snapshot_file, snapshot_interval, init_model, callbacks, log_cout, log_cerr)\n\u001b[0;32m   5131\u001b[0m \u001b[39mreturn\u001b[39;00m \u001b[39mself\u001b[39m\n",
      "File \u001b[1;32m~\\AppData\\Local\\Packages\\PythonSoftwareFoundation.Python.3.9_qbz5n2kfra8p0\\LocalCache\\local-packages\\Python39\\site-packages\\catboost\\core.py:2355\u001b[0m, in \u001b[0;36mCatBoost._fit\u001b[1;34m(self, X, y, cat_features, text_features, embedding_features, pairs, sample_weight, group_id, group_weight, subgroup_id, pairs_weight, baseline, use_best_model, eval_set, verbose, logging_level, plot, plot_file, column_description, verbose_eval, metric_period, silent, early_stopping_rounds, save_snapshot, snapshot_file, snapshot_interval, init_model, callbacks, log_cout, log_cerr)\u001b[0m\n\u001b[0;32m   2351\u001b[0m allow_clear_pool \u001b[39m=\u001b[39m train_params[\u001b[39m\"\u001b[39m\u001b[39mallow_clear_pool\u001b[39m\u001b[39m\"\u001b[39m]\n\u001b[0;32m   2353\u001b[0m \u001b[39mwith\u001b[39;00m log_fixup(log_cout, log_cerr), \\\n\u001b[0;32m   2354\u001b[0m     plot_wrapper(plot, plot_file, \u001b[39m'\u001b[39m\u001b[39mTraining plots\u001b[39m\u001b[39m'\u001b[39m, [_get_train_dir(\u001b[39mself\u001b[39m\u001b[39m.\u001b[39mget_params())]):\n\u001b[1;32m-> 2355\u001b[0m     \u001b[39mself\u001b[39;49m\u001b[39m.\u001b[39;49m_train(\n\u001b[0;32m   2356\u001b[0m         train_pool,\n\u001b[0;32m   2357\u001b[0m         train_params[\u001b[39m\"\u001b[39;49m\u001b[39meval_sets\u001b[39;49m\u001b[39m\"\u001b[39;49m],\n\u001b[0;32m   2358\u001b[0m         params,\n\u001b[0;32m   2359\u001b[0m         allow_clear_pool,\n\u001b[0;32m   2360\u001b[0m         train_params[\u001b[39m\"\u001b[39;49m\u001b[39minit_model\u001b[39;49m\u001b[39m\"\u001b[39;49m]\n\u001b[0;32m   2361\u001b[0m     )\n\u001b[0;32m   2363\u001b[0m \u001b[39m# Have property feature_importance possibly set\u001b[39;00m\n\u001b[0;32m   2364\u001b[0m loss \u001b[39m=\u001b[39m \u001b[39mself\u001b[39m\u001b[39m.\u001b[39m_object\u001b[39m.\u001b[39m_get_loss_function_name()\n",
      "File \u001b[1;32m~\\AppData\\Local\\Packages\\PythonSoftwareFoundation.Python.3.9_qbz5n2kfra8p0\\LocalCache\\local-packages\\Python39\\site-packages\\catboost\\core.py:1759\u001b[0m, in \u001b[0;36m_CatBoostBase._train\u001b[1;34m(self, train_pool, test_pool, params, allow_clear_pool, init_model)\u001b[0m\n\u001b[0;32m   1758\u001b[0m \u001b[39mdef\u001b[39;00m \u001b[39m_train\u001b[39m(\u001b[39mself\u001b[39m, train_pool, test_pool, params, allow_clear_pool, init_model):\n\u001b[1;32m-> 1759\u001b[0m     \u001b[39mself\u001b[39;49m\u001b[39m.\u001b[39;49m_object\u001b[39m.\u001b[39;49m_train(train_pool, test_pool, params, allow_clear_pool, init_model\u001b[39m.\u001b[39;49m_object \u001b[39mif\u001b[39;49;00m init_model \u001b[39melse\u001b[39;49;00m \u001b[39mNone\u001b[39;49;00m)\n\u001b[0;32m   1760\u001b[0m     \u001b[39mself\u001b[39m\u001b[39m.\u001b[39m_set_trained_model_attributes()\n",
      "File \u001b[1;32m_catboost.pyx:4622\u001b[0m, in \u001b[0;36m_catboost._CatBoost._train\u001b[1;34m()\u001b[0m\n",
      "File \u001b[1;32m_catboost.pyx:4671\u001b[0m, in \u001b[0;36m_catboost._CatBoost._train\u001b[1;34m()\u001b[0m\n",
      "\u001b[1;31mKeyboardInterrupt\u001b[0m: "
     ]
    }
   ],
   "source": [
    "# model\n",
    "model_cb = CatBoostClassifier( verbose=False ).fit( X_train, y_train )\n",
    "\n",
    "# prediction\n",
    "yhat_cb = model_cb.predict( X_val )\n",
    "\n",
    "# performance\n",
    "model_cb_results = ml_error( 'CatBoost',  y_val, yhat_cb)\n",
    "model_cb_results"
   ]
  },
  {
   "cell_type": "markdown",
   "metadata": {},
   "source": [
    "### 7.3.1 Cross Validation"
   ]
  },
  {
   "cell_type": "code",
   "execution_count": null,
   "metadata": {},
   "outputs": [],
   "source": []
  },
  {
   "cell_type": "markdown",
   "metadata": {},
   "source": [
    "## 7.4 Random Forest Classifier"
   ]
  },
  {
   "cell_type": "code",
   "execution_count": null,
   "metadata": {},
   "outputs": [
    {
     "data": {
      "text/html": [
       "<div>\n",
       "<style scoped>\n",
       "    .dataframe tbody tr th:only-of-type {\n",
       "        vertical-align: middle;\n",
       "    }\n",
       "\n",
       "    .dataframe tbody tr th {\n",
       "        vertical-align: top;\n",
       "    }\n",
       "\n",
       "    .dataframe thead th {\n",
       "        text-align: right;\n",
       "    }\n",
       "</style>\n",
       "<table border=\"1\" class=\"dataframe\">\n",
       "  <thead>\n",
       "    <tr style=\"text-align: right;\">\n",
       "      <th></th>\n",
       "      <th>Model name</th>\n",
       "      <th>F1</th>\n",
       "    </tr>\n",
       "  </thead>\n",
       "  <tbody>\n",
       "    <tr>\n",
       "      <th>0</th>\n",
       "      <td>CatBoost</td>\n",
       "      <td>0.930797</td>\n",
       "    </tr>\n",
       "  </tbody>\n",
       "</table>\n",
       "</div>"
      ],
      "text/plain": [
       "  Model name        F1\n",
       "0   CatBoost  0.930797"
      ]
     },
     "execution_count": 56,
     "metadata": {},
     "output_type": "execute_result"
    }
   ],
   "source": [
    "# model\n",
    "model_rf = RandomForestClassifier().fit( X_train, y_train )\n",
    "\n",
    "# prediction\n",
    "yhat_rf = model_rf.predict( X_val )\n",
    "\n",
    "# performance\n",
    "model_rf_results = ml_error( 'CatBoost',  y_val, yhat_rf)\n",
    "model_rf_results"
   ]
  },
  {
   "cell_type": "markdown",
   "metadata": {},
   "source": [
    "## 7.5 Extra Trees Classifier"
   ]
  },
  {
   "cell_type": "code",
   "execution_count": null,
   "metadata": {},
   "outputs": [
    {
     "data": {
      "text/html": [
       "<div>\n",
       "<style scoped>\n",
       "    .dataframe tbody tr th:only-of-type {\n",
       "        vertical-align: middle;\n",
       "    }\n",
       "\n",
       "    .dataframe tbody tr th {\n",
       "        vertical-align: top;\n",
       "    }\n",
       "\n",
       "    .dataframe thead th {\n",
       "        text-align: right;\n",
       "    }\n",
       "</style>\n",
       "<table border=\"1\" class=\"dataframe\">\n",
       "  <thead>\n",
       "    <tr style=\"text-align: right;\">\n",
       "      <th></th>\n",
       "      <th>Model name</th>\n",
       "      <th>F1</th>\n",
       "    </tr>\n",
       "  </thead>\n",
       "  <tbody>\n",
       "    <tr>\n",
       "      <th>0</th>\n",
       "      <td>CatBoost</td>\n",
       "      <td>0.94529</td>\n",
       "    </tr>\n",
       "  </tbody>\n",
       "</table>\n",
       "</div>"
      ],
      "text/plain": [
       "  Model name       F1\n",
       "0   CatBoost  0.94529"
      ]
     },
     "execution_count": 57,
     "metadata": {},
     "output_type": "execute_result"
    }
   ],
   "source": [
    "# model\n",
    "model_et = ExtraTreesClassifier().fit( X_train, y_train )\n",
    "\n",
    "# prediction\n",
    "yhat_et = model_et.predict( X_val )\n",
    "\n",
    "# performance\n",
    "model_et_results = ml_error( 'CatBoost',  y_val, yhat_et)\n",
    "model_et_results"
   ]
  },
  {
   "cell_type": "markdown",
   "metadata": {},
   "source": [
    "## 7.6 KNN"
   ]
  },
  {
   "cell_type": "code",
   "execution_count": null,
   "metadata": {},
   "outputs": [
    {
     "data": {
      "text/html": [
       "<div>\n",
       "<style scoped>\n",
       "    .dataframe tbody tr th:only-of-type {\n",
       "        vertical-align: middle;\n",
       "    }\n",
       "\n",
       "    .dataframe tbody tr th {\n",
       "        vertical-align: top;\n",
       "    }\n",
       "\n",
       "    .dataframe thead th {\n",
       "        text-align: right;\n",
       "    }\n",
       "</style>\n",
       "<table border=\"1\" class=\"dataframe\">\n",
       "  <thead>\n",
       "    <tr style=\"text-align: right;\">\n",
       "      <th></th>\n",
       "      <th>Model name</th>\n",
       "      <th>F1</th>\n",
       "    </tr>\n",
       "  </thead>\n",
       "  <tbody>\n",
       "    <tr>\n",
       "      <th>0</th>\n",
       "      <td>KNN</td>\n",
       "      <td>0.864686</td>\n",
       "    </tr>\n",
       "  </tbody>\n",
       "</table>\n",
       "</div>"
      ],
      "text/plain": [
       "  Model name        F1\n",
       "0        KNN  0.864686"
      ]
     },
     "execution_count": 58,
     "metadata": {},
     "output_type": "execute_result"
    }
   ],
   "source": [
    "# model\n",
    "model_knn = KNeighborsClassifier().fit( X_train, y_train )\n",
    "\n",
    "# prediction\n",
    "yhat_knn = model_knn.predict( X_val )\n",
    "\n",
    "# performance\n",
    "model_knn_results = ml_error( 'KNN',  y_val, yhat_knn)\n",
    "model_knn_results"
   ]
  },
  {
   "cell_type": "markdown",
   "metadata": {},
   "source": [
    "# 7.7 Logistic Regression"
   ]
  },
  {
   "cell_type": "code",
   "execution_count": null,
   "metadata": {},
   "outputs": [
    {
     "data": {
      "text/html": [
       "<div>\n",
       "<style scoped>\n",
       "    .dataframe tbody tr th:only-of-type {\n",
       "        vertical-align: middle;\n",
       "    }\n",
       "\n",
       "    .dataframe tbody tr th {\n",
       "        vertical-align: top;\n",
       "    }\n",
       "\n",
       "    .dataframe thead th {\n",
       "        text-align: right;\n",
       "    }\n",
       "</style>\n",
       "<table border=\"1\" class=\"dataframe\">\n",
       "  <thead>\n",
       "    <tr style=\"text-align: right;\">\n",
       "      <th></th>\n",
       "      <th>Model name</th>\n",
       "      <th>F1</th>\n",
       "    </tr>\n",
       "  </thead>\n",
       "  <tbody>\n",
       "    <tr>\n",
       "      <th>0</th>\n",
       "      <td>Logistic</td>\n",
       "      <td>0.849324</td>\n",
       "    </tr>\n",
       "  </tbody>\n",
       "</table>\n",
       "</div>"
      ],
      "text/plain": [
       "  Model name        F1\n",
       "0   Logistic  0.849324"
      ]
     },
     "execution_count": 59,
     "metadata": {},
     "output_type": "execute_result"
    }
   ],
   "source": [
    "# model\n",
    "model_logistic = LogisticRegression().fit( X_train, y_train )\n",
    "\n",
    "# prediction\n",
    "yhat_logistic = model_logistic.predict( X_val )\n",
    "\n",
    "# performance\n",
    "model_logistic_results = ml_error( 'Logistic',  y_val, yhat_logistic)\n",
    "model_logistic_results"
   ]
  },
  {
   "cell_type": "markdown",
   "metadata": {},
   "source": [
    "## 7.8 Naive Bayes"
   ]
  },
  {
   "cell_type": "code",
   "execution_count": null,
   "metadata": {},
   "outputs": [
    {
     "data": {
      "text/html": [
       "<div>\n",
       "<style scoped>\n",
       "    .dataframe tbody tr th:only-of-type {\n",
       "        vertical-align: middle;\n",
       "    }\n",
       "\n",
       "    .dataframe tbody tr th {\n",
       "        vertical-align: top;\n",
       "    }\n",
       "\n",
       "    .dataframe thead th {\n",
       "        text-align: right;\n",
       "    }\n",
       "</style>\n",
       "<table border=\"1\" class=\"dataframe\">\n",
       "  <thead>\n",
       "    <tr style=\"text-align: right;\">\n",
       "      <th></th>\n",
       "      <th>Model name</th>\n",
       "      <th>F1</th>\n",
       "    </tr>\n",
       "  </thead>\n",
       "  <tbody>\n",
       "    <tr>\n",
       "      <th>0</th>\n",
       "      <td>Logistic</td>\n",
       "      <td>0.799888</td>\n",
       "    </tr>\n",
       "  </tbody>\n",
       "</table>\n",
       "</div>"
      ],
      "text/plain": [
       "  Model name        F1\n",
       "0   Logistic  0.799888"
      ]
     },
     "execution_count": 60,
     "metadata": {},
     "output_type": "execute_result"
    }
   ],
   "source": [
    "# model\n",
    "model_gaussian = GaussianNB().fit( X_train, y_train )\n",
    "\n",
    "# prediction\n",
    "yhat_gaussian = model_gaussian.predict( X_val )\n",
    "\n",
    "# performance\n",
    "model_gaussian_results = ml_error( 'Logistic',  y_val, yhat_gaussian )\n",
    "model_gaussian_results"
   ]
  },
  {
   "cell_type": "markdown",
   "metadata": {},
   "source": [
    "## 7.9 SVM"
   ]
  },
  {
   "cell_type": "code",
   "execution_count": null,
   "metadata": {},
   "outputs": [
    {
     "data": {
      "text/html": [
       "<div>\n",
       "<style scoped>\n",
       "    .dataframe tbody tr th:only-of-type {\n",
       "        vertical-align: middle;\n",
       "    }\n",
       "\n",
       "    .dataframe tbody tr th {\n",
       "        vertical-align: top;\n",
       "    }\n",
       "\n",
       "    .dataframe thead th {\n",
       "        text-align: right;\n",
       "    }\n",
       "</style>\n",
       "<table border=\"1\" class=\"dataframe\">\n",
       "  <thead>\n",
       "    <tr style=\"text-align: right;\">\n",
       "      <th></th>\n",
       "      <th>Model name</th>\n",
       "      <th>F1</th>\n",
       "    </tr>\n",
       "  </thead>\n",
       "  <tbody>\n",
       "    <tr>\n",
       "      <th>0</th>\n",
       "      <td>Logistic</td>\n",
       "      <td>0.844947</td>\n",
       "    </tr>\n",
       "  </tbody>\n",
       "</table>\n",
       "</div>"
      ],
      "text/plain": [
       "  Model name        F1\n",
       "0   Logistic  0.844947"
      ]
     },
     "execution_count": 61,
     "metadata": {},
     "output_type": "execute_result"
    }
   ],
   "source": [
    "# model\n",
    "model_svm = svm.SVC().fit( X_train, y_train )\n",
    "\n",
    "# prediction\n",
    "yhat_svm = model_svm.predict( X_val )\n",
    "\n",
    "# performance\n",
    "model_svm_results = ml_error( 'Logistic',  y_val, yhat_svm )\n",
    "model_svm_results"
   ]
  },
  {
   "cell_type": "markdown",
   "metadata": {},
   "source": [
    "# 7.11 Decision Tree"
   ]
  },
  {
   "cell_type": "code",
   "execution_count": null,
   "metadata": {},
   "outputs": [
    {
     "data": {
      "text/html": [
       "<div>\n",
       "<style scoped>\n",
       "    .dataframe tbody tr th:only-of-type {\n",
       "        vertical-align: middle;\n",
       "    }\n",
       "\n",
       "    .dataframe tbody tr th {\n",
       "        vertical-align: top;\n",
       "    }\n",
       "\n",
       "    .dataframe thead th {\n",
       "        text-align: right;\n",
       "    }\n",
       "</style>\n",
       "<table border=\"1\" class=\"dataframe\">\n",
       "  <thead>\n",
       "    <tr style=\"text-align: right;\">\n",
       "      <th></th>\n",
       "      <th>Model name</th>\n",
       "      <th>F1</th>\n",
       "    </tr>\n",
       "  </thead>\n",
       "  <tbody>\n",
       "    <tr>\n",
       "      <th>0</th>\n",
       "      <td>Decision Tree</td>\n",
       "      <td>0.89281</td>\n",
       "    </tr>\n",
       "  </tbody>\n",
       "</table>\n",
       "</div>"
      ],
      "text/plain": [
       "      Model name       F1\n",
       "0  Decision Tree  0.89281"
      ]
     },
     "execution_count": 62,
     "metadata": {},
     "output_type": "execute_result"
    }
   ],
   "source": [
    "# model\n",
    "model_dt = DecisionTreeClassifier().fit( X_train, y_train )\n",
    "\n",
    "# prediction\n",
    "yhat_dt = model_dt.predict( X_val )\n",
    "\n",
    "# performance\n",
    "model_dt_results = ml_error( 'Decision Tree',  y_val, yhat_dt )\n",
    "model_dt_results"
   ]
  },
  {
   "cell_type": "markdown",
   "metadata": {},
   "source": [
    "## 7.10 Stacking Classifier"
   ]
  },
  {
   "cell_type": "code",
   "execution_count": null,
   "metadata": {},
   "outputs": [
    {
     "ename": "",
     "evalue": "",
     "output_type": "error",
     "traceback": [
      "\u001b[1;31mCanceled future for execute_request message before replies were done"
     ]
    }
   ],
   "source": [
    "estimators_list = [ ('lgbm', model_lgb), ('xgboost', model_xgb), ('catboost', model_cb), ('random forest', model_rf ), ('extra trees', model_et),\n",
    "('decision tree', model_dt) ]\n",
    "#('knn', model_knn), ('logistic regression', model_logistic), ('gaussian', model_gaussian), ('svm', model_svm), \n",
    "\n",
    "# Build stack model\n",
    "stack_model = StackingClassifier( estimators = estimators_list, n_jobs=-1, verbose=True ).fit( X_train, y_train )\n",
    "pickle.dump( stack_model, open( 'model/model_stack.pkl', 'wb' ) )\n",
    "\n",
    "# prediction\n",
    "yhat_stack = stack_model.predict( X_val )\n",
    "\n",
    "# performance\n",
    "stack_model_results = ml_error( 'Stacking', y_val, yhat_stack )\n",
    "stack_model_results"
   ]
  },
  {
   "cell_type": "markdown",
   "metadata": {},
   "source": [
    "### 7.7.1 Cross Validation"
   ]
  },
  {
   "cell_type": "code",
   "execution_count": null,
   "metadata": {},
   "outputs": [],
   "source": [
    "# # cross validation\n",
    "# kfold = KFold(n_splits=5, random_state=1, shuffle=True)\n",
    "# cv = cross_val_score(stack_model, X, Y, scoring='f1', cv=kfold, n_jobs=-1, error_score='raise' )\n",
    "# print( \"{} +/- {}\".format( np.mean(cv), np.std(cv)) )"
   ]
  },
  {
   "cell_type": "markdown",
   "metadata": {},
   "source": [
    "# 8.0 Bayesian Optimization"
   ]
  },
  {
   "cell_type": "markdown",
   "metadata": {},
   "source": [
    "## 8.1 LGBM"
   ]
  },
  {
   "cell_type": "code",
   "execution_count": null,
   "metadata": {},
   "outputs": [],
   "source": [
    "# search_space = [(100, 1500), #name = 'n_estimators'), \n",
    "#                 (1, 20), #name = 'max_depth'), \n",
    "#                 (0.001, 0.1, 'log-uniform'),#, name = 'learning_rate'),\n",
    "#                 (2, 128), #name = 'num_leaves'),\n",
    "#                 (1, 100), #name = 'min_child_samples'),\n",
    "#                 (0.05, 1.0), #name = 'subsample'),\n",
    "#                 (0.15, 1.0) #name = 'colsample_bytree')]\n",
    "# ]\n",
    "\n",
    "# def treinar_modelo( params ):\n",
    "#     n_estimators = params[0]\n",
    "#     max_depth = params[1]\n",
    "#     learning_rate = params[2]\n",
    "#     num_leaves = params[3]\n",
    "#     min_child_samples = params[4]\n",
    "#     subsample = params[5]\n",
    "#     colsample_bytree = params[6]\n",
    "\n",
    "#     print(params, '\\n')\n",
    "\n",
    "#     lgbm_model = lgb.LGBMClassifier( learning_rate = learning_rate, num_leaves=num_leaves, n_estimators=n_estimators, max_depth=max_depth, min_child_samples=min_child_samples, subsample=subsample, colsample_bytree=colsample_bytree, n_jobs=-1, random_state=42, subsample_freq=1)\n",
    "#     lgbm_model.fit( X_train, y_train )\n",
    "\n",
    "#     yhat_lgb = lgbm_model.predict( X_val )\n",
    "\n",
    "#     return -m.f1_score( y_val, yhat_lgb )\n",
    "\n",
    "# result = gp_minimize( treinar_modelo, search_space, n_calls = 200, n_initial_points = 10, verbose=True, n_jobs=-1, random_state= 42 )"
   ]
  },
  {
   "cell_type": "markdown",
   "metadata": {},
   "source": [
    "## 8.2 XGBoost"
   ]
  },
  {
   "cell_type": "code",
   "execution_count": null,
   "metadata": {},
   "outputs": [],
   "source": [
    "# search_space = [(100, 1500), #name = 'n_estimators'), \n",
    "#                 (1, 20), #name = 'max_depth'), \n",
    "#                 (0.001, 0.1, 'log-uniform'),#, name = 'learning_rate'),\n",
    "#                 (2, 128), #name = 'num_leaves'),\n",
    "#                 (1, 100), #name = 'min_child_samples'),\n",
    "#                 (0.05, 1.0), #name = 'subsample'),\n",
    "#                 (0.15, 1.0) #name = 'colsample_bytree')]\n",
    "# ]\n",
    "\n",
    "# def treinar_modelo( params ):\n",
    "#     n_estimators = params[0]\n",
    "#     max_depth = params[1]\n",
    "#     learning_rate = params[2]\n",
    "#     num_leaves = params[3]\n",
    "#     min_child_samples = params[4]\n",
    "#     subsample = params[5]\n",
    "#     colsample_bytree = params[6]\n",
    "\n",
    "#     print(params, '\\n')\n",
    "\n",
    "#     xgb_model = xgb.XGBClassifier( learning_rate = learning_rate, num_leaves=num_leaves, n_estimators=n_estimators, max_depth=max_depth, min_child_samples=min_child_samples, subsample=subsample, colsample_bytree=colsample_bytree, n_jobs=-1, random_state=42, subsample_freq=1)\n",
    "#     xgb_model.fit( X_train, y_train )\n",
    "\n",
    "#     yhat_xgb = xgb_model.predict( X_val )\n",
    "\n",
    "#     return -m.f1_score( y_val, yhat_xgb )\n",
    "\n",
    "# result = gp_minimize( treinar_modelo, search_space, n_calls = 200, n_initial_points = 10, verbose=True, n_jobs=-1, random_state= 42 )"
   ]
  },
  {
   "cell_type": "markdown",
   "metadata": {},
   "source": [
    "## 8.3 CatBoost"
   ]
  },
  {
   "cell_type": "code",
   "execution_count": null,
   "metadata": {},
   "outputs": [],
   "source": [
    "# search_space = [(6, 10), #depth\n",
    "#                 (0.01, 0.1), #learning rate\n",
    "#                 (100, 200), #iterations\n",
    "# ]\n",
    "\n",
    "# def treinar_modelo( params ):\n",
    "#     depth = params[0]\n",
    "#     learning_rate = params[1]\n",
    "#     iterations = params[2]\n",
    "\n",
    "#     print(params, '\\n' )\n",
    "\n",
    "#     catboost_model = CatBoostClassifier( depth = depth, learning_rate=learning_rate, iterations=iterations, verbose=False )\n",
    "#     catboost_model.fit( X_train, y_train )\n",
    "\n",
    "#     yhat_catboost = catboost_model.predict( X_val )\n",
    "\n",
    "#     return -m.f1_score( y_val, yhat_catboost )\n",
    "\n",
    "# result = gp_minimize( treinar_modelo, search_space, n_calls = 100, n_initial_points = 10, verbose=True, n_jobs=-1, random_state= 42 )"
   ]
  },
  {
   "cell_type": "markdown",
   "metadata": {},
   "source": [
    "## 8.4 Random Forest Classifier"
   ]
  },
  {
   "cell_type": "code",
   "execution_count": null,
   "metadata": {},
   "outputs": [],
   "source": [
    "# search_space = [(100, 1500), #name = 'n_estimators'), \n",
    "#                 (1, 20), #name = 'max_depth'), \n",
    "#                 (0.001, 0.1, 'log-uniform'),#, name = 'learning_rate'),\n",
    "#                 (2, 128), #name = 'num_leaves'),\n",
    "#                 (1, 100), #name = 'min_child_samples'),\n",
    "#                 (0.05, 1.0), #name = 'subsample'),\n",
    "#                 (0.15, 1.0) #name = 'colsample_bytree')]\n",
    "# ]\n",
    "\n",
    "# def treinar_modelo( params ):\n",
    "#     n_estimators = params[0]\n",
    "#     max_depth = params[1]\n",
    "#     learning_rate = params[2]\n",
    "#     num_leaves = params[3]\n",
    "#     min_child_samples = params[4]\n",
    "#     subsample = params[5]\n",
    "#     colsample_bytree = params[6]\n",
    "\n",
    "#     print(params, '\\n')\n",
    "\n",
    "#     model_rf = RandomForestClassifier( learning_rate = learning_rate, num_leaves=num_leaves, n_estimators=n_estimators, max_depth=max_depth, min_child_samples=min_child_samples, subsample=subsample, colsample_bytree=colsample_bytree, n_jobs=-1, random_state=42, subsample_freq=1)\n",
    "#     model_rf.fit( X_train, y_train )\n",
    "\n",
    "#     yhat_rf = model_rf.predict( X_val )\n",
    "\n",
    "#     return -m.f1_score( y_val, yhat_rf )\n",
    "\n",
    "# result = gp_minimize( treinar_modelo, search_space, n_calls = 200, n_initial_points = 10, verbose=True, n_jobs=-1, random_state= 42 )"
   ]
  },
  {
   "cell_type": "markdown",
   "metadata": {},
   "source": [
    "## 8.5 Extra Trees Classifier"
   ]
  },
  {
   "cell_type": "code",
   "execution_count": null,
   "metadata": {},
   "outputs": [],
   "source": [
    "# search_space = [(100, 1500), #name = 'n_estimators'), \n",
    "#                 (1, 20), #name = 'max_depth'), \n",
    "#                 (0.001, 0.1, 'log-uniform'),#, name = 'learning_rate'),\n",
    "#                 (2, 128), #name = 'num_leaves'),\n",
    "#                 (1, 100), #name = 'min_child_samples'),\n",
    "#                 (0.05, 1.0), #name = 'subsample'),\n",
    "#                 (0.15, 1.0) #name = 'colsample_bytree')]\n",
    "# ]\n",
    "\n",
    "# def treinar_modelo( params ):\n",
    "#     n_estimators = params[0]\n",
    "#     max_depth = params[1]\n",
    "#     learning_rate = params[2]\n",
    "#     num_leaves = params[3]\n",
    "#     min_child_samples = params[4]\n",
    "#     subsample = params[5]\n",
    "#     colsample_bytree = params[6]\n",
    "\n",
    "#     print(params, '\\n')\n",
    "\n",
    "#     model_et = ExtraTreesClassifier( learning_rate = learning_rate, num_leaves=num_leaves, n_estimators=n_estimators, max_depth=max_depth, min_child_samples=min_child_samples, subsample=subsample, colsample_bytree=colsample_bytree, n_jobs=-1, random_state=42, subsample_freq=1)\n",
    "#     model_et.fit( X_train, y_train )\n",
    "\n",
    "#     yhat_et = model_et.predict( X_val )\n",
    "\n",
    "#     return -m.f1_score( y_val, yhat_et )\n",
    "\n",
    "# result = gp_minimize( treinar_modelo, search_space, n_calls = 200, n_initial_points = 10, verbose=True, n_jobs=-1, random_state= 42 )"
   ]
  },
  {
   "cell_type": "markdown",
   "metadata": {},
   "source": [
    "## 8.6 KNN"
   ]
  },
  {
   "cell_type": "code",
   "execution_count": null,
   "metadata": {},
   "outputs": [],
   "source": [
    "# search_space = [(100, 1500), #name = 'n_estimators'), \n",
    "#                 (1, 20), #name = 'max_depth'), \n",
    "#                 (0.001, 0.1, 'log-uniform'),#, name = 'learning_rate'),\n",
    "#                 (2, 128), #name = 'num_leaves'),\n",
    "#                 (1, 100), #name = 'min_child_samples'),\n",
    "#                 (0.05, 1.0), #name = 'subsample'),\n",
    "#                 (0.15, 1.0) #name = 'colsample_bytree')]\n",
    "# ]\n",
    "\n",
    "# def treinar_modelo( params ):\n",
    "#     n_estimators = params[0]\n",
    "#     max_depth = params[1]\n",
    "#     learning_rate = params[2]\n",
    "#     num_leaves = params[3]\n",
    "#     min_child_samples = params[4]\n",
    "#     subsample = params[5]\n",
    "#     colsample_bytree = params[6]\n",
    "\n",
    "#     print(params, '\\n')\n",
    "\n",
    "#     lgbm_model = lgb.LGBMClassifier( learning_rate = learning_rate, num_leaves=num_leaves, n_estimators=n_estimators, max_depth=max_depth, min_child_samples=min_child_samples, subsample=subsample, colsample_bytree=colsample_bytree, n_jobs=-1, random_state=42, subsample_freq=1)\n",
    "#     lgbm_model.fit( X_train, y_train )\n",
    "\n",
    "#     yhat_lgb = lgbm_model.predict( X_val )\n",
    "\n",
    "#     return -m.f1_score( y_val, yhat_lgb )\n",
    "\n",
    "# result = gp_minimize( treinar_modelo, search_space, n_calls = 200, n_initial_points = 10, verbose=True, n_jobs=-1, random_state= 42 )"
   ]
  },
  {
   "cell_type": "markdown",
   "metadata": {},
   "source": [
    "## 8.7 Logistic Regression"
   ]
  },
  {
   "cell_type": "code",
   "execution_count": null,
   "metadata": {},
   "outputs": [],
   "source": [
    "# search_space = [(100, 1500), #name = 'n_estimators'), \n",
    "#                 (1, 20), #name = 'max_depth'), \n",
    "#                 (0.001, 0.1, 'log-uniform'),#, name = 'learning_rate'),\n",
    "#                 (2, 128), #name = 'num_leaves'),\n",
    "#                 (1, 100), #name = 'min_child_samples'),\n",
    "#                 (0.05, 1.0), #name = 'subsample'),\n",
    "#                 (0.15, 1.0) #name = 'colsample_bytree')]\n",
    "# ]\n",
    "\n",
    "# def treinar_modelo( params ):\n",
    "#     n_estimators = params[0]\n",
    "#     max_depth = params[1]\n",
    "#     learning_rate = params[2]\n",
    "#     num_leaves = params[3]\n",
    "#     min_child_samples = params[4]\n",
    "#     subsample = params[5]\n",
    "#     colsample_bytree = params[6]\n",
    "\n",
    "#     print(params, '\\n')\n",
    "\n",
    "#     lgbm_model = lgb.LGBMClassifier( learning_rate = learning_rate, num_leaves=num_leaves, n_estimators=n_estimators, max_depth=max_depth, min_child_samples=min_child_samples, subsample=subsample, colsample_bytree=colsample_bytree, n_jobs=-1, random_state=42, subsample_freq=1)\n",
    "#     lgbm_model.fit( X_train, y_train )\n",
    "\n",
    "#     yhat_lgb = lgbm_model.predict( X_val )\n",
    "\n",
    "#     return -m.f1_score( y_val, yhat_lgb )\n",
    "\n",
    "# result = gp_minimize( treinar_modelo, search_space, n_calls = 200, n_initial_points = 10, verbose=True, n_jobs=-1, random_state= 42 )"
   ]
  },
  {
   "cell_type": "markdown",
   "metadata": {},
   "source": [
    "## 8.8 Naive Bayes"
   ]
  },
  {
   "cell_type": "code",
   "execution_count": null,
   "metadata": {},
   "outputs": [],
   "source": [
    "# search_space = [(100, 1500), #name = 'n_estimators'), \n",
    "#                 (1, 20), #name = 'max_depth'), \n",
    "#                 (0.001, 0.1, 'log-uniform'),#, name = 'learning_rate'),\n",
    "#                 (2, 128), #name = 'num_leaves'),\n",
    "#                 (1, 100), #name = 'min_child_samples'),\n",
    "#                 (0.05, 1.0), #name = 'subsample'),\n",
    "#                 (0.15, 1.0) #name = 'colsample_bytree')]\n",
    "# ]\n",
    "\n",
    "# def treinar_modelo( params ):\n",
    "#     n_estimators = params[0]\n",
    "#     max_depth = params[1]\n",
    "#     learning_rate = params[2]\n",
    "#     num_leaves = params[3]\n",
    "#     min_child_samples = params[4]\n",
    "#     subsample = params[5]\n",
    "#     colsample_bytree = params[6]\n",
    "\n",
    "#     print(params, '\\n')\n",
    "\n",
    "#     lgbm_model = lgb.LGBMClassifier( learning_rate = learning_rate, num_leaves=num_leaves, n_estimators=n_estimators, max_depth=max_depth, min_child_samples=min_child_samples, subsample=subsample, colsample_bytree=colsample_bytree, n_jobs=-1, random_state=42, subsample_freq=1)\n",
    "#     lgbm_model.fit( X_train, y_train )\n",
    "\n",
    "#     yhat_lgb = lgbm_model.predict( X_val )\n",
    "\n",
    "#     return -m.f1_score( y_val, yhat_lgb )\n",
    "\n",
    "# result = gp_minimize( treinar_modelo, search_space, n_calls = 200, n_initial_points = 10, verbose=True, n_jobs=-1, random_state= 42 )"
   ]
  },
  {
   "cell_type": "markdown",
   "metadata": {},
   "source": [
    "## 8.9 SVM"
   ]
  },
  {
   "cell_type": "code",
   "execution_count": null,
   "metadata": {},
   "outputs": [],
   "source": [
    "# search_space = [(100, 1500), #name = 'n_estimators'), \n",
    "#                 (1, 20), #name = 'max_depth'), \n",
    "#                 (0.001, 0.1, 'log-uniform'),#, name = 'learning_rate'),\n",
    "#                 (2, 128), #name = 'num_leaves'),\n",
    "#                 (1, 100), #name = 'min_child_samples'),\n",
    "#                 (0.05, 1.0), #name = 'subsample'),\n",
    "#                 (0.15, 1.0) #name = 'colsample_bytree')]\n",
    "# ]\n",
    "\n",
    "# def treinar_modelo( params ):\n",
    "#     n_estimators = params[0]\n",
    "#     max_depth = params[1]\n",
    "#     learning_rate = params[2]\n",
    "#     num_leaves = params[3]\n",
    "#     min_child_samples = params[4]\n",
    "#     subsample = params[5]\n",
    "#     colsample_bytree = params[6]\n",
    "\n",
    "#     print(params, '\\n')\n",
    "\n",
    "#     lgbm_model = lgb.LGBMClassifier( learning_rate = learning_rate, num_leaves=num_leaves, n_estimators=n_estimators, max_depth=max_depth, min_child_samples=min_child_samples, subsample=subsample, colsample_bytree=colsample_bytree, n_jobs=-1, random_state=42, subsample_freq=1)\n",
    "#     lgbm_model.fit( X_train, y_train )\n",
    "\n",
    "#     yhat_lgb = lgbm_model.predict( X_val )\n",
    "\n",
    "#     return -m.f1_score( y_val, yhat_lgb )\n",
    "\n",
    "# result = gp_minimize( treinar_modelo, search_space, n_calls = 200, n_initial_points = 10, verbose=True, n_jobs=-1, random_state= 42 )"
   ]
  },
  {
   "cell_type": "markdown",
   "metadata": {},
   "source": [
    "## 8.10 Decision Tree"
   ]
  },
  {
   "cell_type": "code",
   "execution_count": null,
   "metadata": {},
   "outputs": [],
   "source": [
    "# search_space = [(100, 1500), #name = 'n_estimators'), \n",
    "#                 (1, 20), #name = 'max_depth'), \n",
    "#                 (0.001, 0.1, 'log-uniform'),#, name = 'learning_rate'),\n",
    "#                 (2, 128), #name = 'num_leaves'),\n",
    "#                 (1, 100), #name = 'min_child_samples'),\n",
    "#                 (0.05, 1.0), #name = 'subsample'),\n",
    "#                 (0.15, 1.0) #name = 'colsample_bytree')]\n",
    "# ]\n",
    "\n",
    "# def treinar_modelo( params ):\n",
    "#     n_estimators = params[0]\n",
    "#     max_depth = params[1]\n",
    "#     learning_rate = params[2]\n",
    "#     num_leaves = params[3]\n",
    "#     min_child_samples = params[4]\n",
    "#     subsample = params[5]\n",
    "#     colsample_bytree = params[6]\n",
    "\n",
    "#     print(params, '\\n')\n",
    "\n",
    "#     lgbm_model = lgb.LGBMClassifier( learning_rate = learning_rate, num_leaves=num_leaves, n_estimators=n_estimators, max_depth=max_depth, min_child_samples=min_child_samples, subsample=subsample, colsample_bytree=colsample_bytree, n_jobs=-1, random_state=42, subsample_freq=1)\n",
    "#     lgbm_model.fit( X_train, y_train )\n",
    "\n",
    "#     yhat_lgb = lgbm_model.predict( X_val )\n",
    "\n",
    "#     return -m.f1_score( y_val, yhat_lgb )\n",
    "\n",
    "# result = gp_minimize( treinar_modelo, search_space, n_calls = 200, n_initial_points = 10, verbose=True, n_jobs=-1, random_state= 42 )"
   ]
  }
 ],
 "metadata": {
  "kernelspec": {
   "display_name": "Python 3.9.13 64-bit (microsoft store)",
   "language": "python",
   "name": "python3"
  },
  "language_info": {
   "codemirror_mode": {
    "name": "ipython",
    "version": 3
   },
   "file_extension": ".py",
   "mimetype": "text/x-python",
   "name": "python",
   "nbconvert_exporter": "python",
   "pygments_lexer": "ipython3",
   "version": "3.9.13"
  },
  "orig_nbformat": 4,
  "vscode": {
   "interpreter": {
    "hash": "5e41ca046b3d9885ca897a71fa607c661abdd256ec5b789ecb59479222986451"
   }
  }
 },
 "nbformat": 4,
 "nbformat_minor": 2
}
